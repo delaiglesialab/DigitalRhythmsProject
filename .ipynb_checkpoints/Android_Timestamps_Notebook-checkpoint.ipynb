{
  "nbformat": 4,
  "nbformat_minor": 0,
  "metadata": {
    "colab": {
      "name": "Android Timestamps Notebook.ipynb",
      "provenance": [],
      "collapsed_sections": [],
      "include_colab_link": true
    },
    "kernelspec": {
      "name": "python3",
      "display_name": "Python 3"
    }
  },
  "cells": [
    {
      "cell_type": "markdown",
      "metadata": {
        "id": "view-in-github",
        "colab_type": "text"
      },
      "source": [
        "<a href=\"https://colab.research.google.com/github/delaiglesialab/DigitalRhythmsProject/blob/main/Android_Timestamps_Notebook.ipynb\" target=\"_parent\"><img src=\"https://colab.research.google.com/assets/colab-badge.svg\" alt=\"Open In Colab\"/></a>"
      ]
    },
    {
      "cell_type": "markdown",
      "metadata": {
        "id": "Li774Yz7TYP2"
      },
      "source": [
        "### **Get Android Timestamps**\n",
        "\n",
        "---\n",
        "\n",
        "Thanks for helping us to investigate work rhythms under social isolation! \n",
        "\n",
        "Do not worry if you are not familiar with these notebooks, follow the instruction on each \"block\" called a cell, and press the play button on the left for each of them in a sequential manner (unless stated otherwise). You'll be done in just a few clicks!\n",
        "\n",
        "If you see any errors or did not run them in order, just reload the page and start over!\n",
        "\n",
        "---\n",
        "\n",
        "You will upload the HTML data file you downloaded from your Google account via Google Takeout. It is only stored temporarily and we will walk you through deleting it at the end of your session.\n",
        "\n",
        "Our code will do a little simple processing for you, and then you'll get back a CSV file containing the timestamps of your phone use that can be used for analysis.\n",
        "\n",
        "There is an optional \"privacy filter\" cell, only run it if you want to erase the name of the apps as well. The data cannot be traced back to you and if enough people provide data with appnames, we can do more interesting analyses with them, so please consider sharing the data as is.\n",
        "\n",
        "---\n",
        "\n",
        "Good luck, and feel free to reach out to Ray at raysan53@uw.edu if you run into any issues!\n",
        "\n",
        "\n",
        "\n",
        "---\n",
        "\n",
        "\n",
        "\n",
        "\n",
        "\n",
        "\n",
        "\n"
      ]
    },
    {
      "cell_type": "code",
      "metadata": {
        "id": "L5NS8PrTJA1Z",
        "cellView": "form"
      },
      "source": [
        "#@title Set-Up \n",
        "#@markdown start by running this cell with the button on the left. It may take a short while as it loads everything up for you!\n",
        "from google.colab import files\n",
        "import os\n",
        "import pandas as pd\n",
        "import numpy as np\n",
        "import re\n",
        "import matplotlib.pyplot as plt\n",
        "from datetime import datetime\n",
        "from dateutil.parser import parse"
      ],
      "execution_count": null,
      "outputs": []
    },
    {
      "cell_type": "code",
      "metadata": {
        "id": "Ymh-ZTt_JPDf",
        "cellView": "form"
      },
      "source": [
        "#@title Upload data file\n",
        "#@markdown Running this cell will prompt you to upload your HTML file containing Android timestamps.\n",
        "\n",
        "#@markdown Important note - your HTML file MUST be named 'My Activity.html' EXACTLY, or our code will not work. Please rename your file if need be.\n",
        "file = files.upload()\n",
        "\n",
        "os.rename(r'My Activity.html',r'actdata.txt')\n",
        "with open('actdata.txt','r') as file:\n",
        "  data = file.readlines()\n",
        "print(\"Data loaded from file.\")\n",
        "!rm *.* #removes file, bash shell command\n",
        "print(\"File deleted from Colab, verify in files on left panel.\")"
      ],
      "execution_count": null,
      "outputs": []
    },
    {
      "cell_type": "code",
      "metadata": {
        "id": "GwOtdMOmeQkX",
        "cellView": "form"
      },
      "source": [
        "#@title Build Dataframe\n",
        "#@markdown Running this cell extracts the data and puts it in a dataframe, once run, it will show you the top few and bottom few entries from your data.\n",
        "\n",
        "actdat = data[32]\n",
        "\n",
        "preapp = [app.end(0) for app in re.finditer('<p class=\"mdl-typography--title\">', actdat)] \n",
        "postapp = [app.start(0) for app in re.finditer('<br></p></div><div class=\"content-cell mdl-cell mdl-cell--6-col mdl-typography--body-1\">', actdat)]\n",
        "posttime = [time.start(0) for time in re.finditer('</div><div class=\"content-cell mdl-cell mdl-cell--6-col mdl-typography--body-1 mdl-typography--text-right\">', actdat)]\n",
        "\n",
        "appname = []\n",
        "datetime = []\n",
        "timezone = []\n",
        "\n",
        "for i in range(len(posttime)):\n",
        "\n",
        "  appname += [actdat[preapp[i]:postapp[i]]]\n",
        "\n",
        "  stamp = actdat[posttime[i]-30:posttime[i]]\n",
        "  idx = [app.end(0) for app in re.finditer('>', stamp)]\n",
        "  if len(idx) > 0:\n",
        "    stamp = stamp[idx[-1]:]\n",
        "\n",
        "  datetime += [parse(stamp[:-4])]\n",
        "  timezone += [stamp[-3:]]\n",
        "\n",
        "dataframe = pd.DataFrame(list(zip(appname,datetime,timezone)),columns = ['App','Timestamp','TimeZone'])\n",
        "print(dataframe.head())"
      ],
      "execution_count": null,
      "outputs": []
    },
    {
      "cell_type": "code",
      "metadata": {
        "id": "mi5XyHlp_6Bp",
        "cellView": "form"
      },
      "source": [
        "#@title Privacy Filter\n",
        "#@markdown **Please consider NOT using this cell!**\n",
        "\n",
        "#@markdown This cell emoves app names from the data. All apps are renamed to \"app\" with exception of clock/alarm apps which are renamed to \"clock\"\n",
        "\n",
        "dataframe.loc[dataframe['App'].str.contains('clock', case=False), 'App'] = 'clock'\n",
        "dataframe.loc[dataframe['App'] != \"clock\", \"App\"] = \"app\"\n",
        "\n",
        "print(\"appnames have been removed, replaced with \"+str(dataframe.App.unique())+\"\\n\\n\")\n",
        "print(dataframe.head())"
      ],
      "execution_count": null,
      "outputs": []
    },
    {
      "cell_type": "code",
      "metadata": {
        "id": "ZwaOJd3wRHu6",
        "cellView": "form"
      },
      "source": [
        "#@title Download dataframe as csv\n",
        "#@markdown This cell allows you to download the CSV. Note that it is called \"AllData,csv\" and you will be asked to rename it in the next step before submission.\n",
        "dataframe.to_csv(\"AllData.csv\")\n",
        "files.download(\"AllData.csv\")"
      ],
      "execution_count": null,
      "outputs": []
    },
    {
      "cell_type": "code",
      "metadata": {
        "id": "El6hXH3kWeEk",
        "cellView": "form"
      },
      "source": [
        "#@title Clean Slate\n",
        "#@markdown This deletes all files from colab when run, Including the HTML file and the CSV file you downloaded leaving no trace.\n",
        "\n",
        "!rm *.*\n",
        "print(\"Done and Dusted!\")"
      ],
      "execution_count": null,
      "outputs": []
    },
    {
      "cell_type": "markdown",
      "metadata": {
        "id": "0LHEZhvohlts"
      },
      "source": [
        "---\n",
        "\n",
        "You're all set!\n",
        "\n",
        "carry on with step 2 in the main page!\n",
        "\n",
        "---"
      ]
    }
  ]
}
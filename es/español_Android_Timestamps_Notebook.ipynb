{
  "cells": [{
      "cell_type": "markdown",
      "metadata": {
        "colab_type": "text",
        "id": "view-in-github"
      },
      "source": [
        "<a href=\"https://colab.research.google.com/github/delaiglesialab/DigitalRhythmsProject/blob/main/es/espa%C3%B1ol_Android_Timestamps_Notebook.ipynb\" target=\"_parent\"><img src=\"https://colab.research.google.com/assets/colab-badge.svg\" alt=\"Open In Colab\"/></a>"
      ]
    },
    {
      "cell_type": "markdown",
      "metadata": {
        "id": "Li774Yz7TYP2"
      },
      "source": [
        "### **Obtener Las marcas de tiempo de Android**\n",
        "\n",
        "---\n",
        "\n",
        "¡Gracias por ayudarnos a investigar los ritmos de trabajo bajo aislamiento social!\n",
        "\n",
        "No se preocupe si no está familiarizado con estos notebooks, siga las instrucciones en cada \"bloque\" llamado celda y presione el botón de *play* a la izquierda para cada una de ellas de manera secuencial (a menos que se indique lo contrario). ¡Con unos pocos clics estará completo el proceso!\n",
        "\n",
        "Si ve algún error o no ejecuto las celdas en orden, ¡Simplemente vuelva a cargar la página y comience de nuevo!\n",
        "\n",
        "---\n",
        "\n",
        "Cargará el archivo de datos HTML que descargó de su cuenta de Google a través de Google Takeout. Sólo se almacena temporalmente y lo guiaremos para eliminarlo al final de su sesión.\n",
        "\n",
        "Nuestro código hará un procesamiento simple por usted, y luego obtendrá un archivo CSV que contiene las marcas de tiempo de uso de su teléfono que pueden ser utilizadas para el análisis.\n",
        "\n",
        "Hay una celda de \"filtro de privacidad\" opcional, sólo ejecútela si también desea borrar el nombre de las aplicaciones. Los datos no se pueden rastrear hasta usted y si suficientes personas proporcionan datos con nombres de aplicaciones, podremos hacer análisis más interesantes con ellos, así que considere compartir los datos tal como están.\n",
        "\n",
        "---\n",
        "\n",
        "¡Buena suerte y no dudes en comunicarte con Leandro a lcasira@uw.edu si tienes algún problema!\n",
        "\n",
        "\n",
        "\n",
        "---\n",
        "\n",
        "\n",
        "\n",
        "\n",
        "\n",
        "\n",
        "\n"
      ]
    },
    {
      "cell_type": "code",
      "execution_count": null,
      "metadata": {
        "cellView": "form",
        "id": "L5NS8PrTJA1Z"
      },
      "outputs": [],
      "source": [
        "#@title Configuración\n",
        "#@markdown comience ejecutando esta celda con el botón de la izquierda. ¡Puede tomar un poco de tiempo ya que carga todo para ti!\n",
        "from google.colab import files\n",
        "import os\n",
        "import pandas as pd\n",
        "import numpy as np\n",
        "import re\n",
        "import matplotlib.pyplot as plt\n",
        "from datetime import datetime\n",
        "from dateutil.parser import parse"
      ]
    },
    {
      "cell_type": "code",
      "execution_count": null,
      "metadata": {
        "cellView": "form",
        "id": "Ymh-ZTt_JPDf"
      },
      "outputs": [],
      "source": [
        "#@title Subir archivo de datos\n",
        "#@markdown Al ejecutar esta celda, se le pedirá que cargue su archivo HTML que contiene marcas de tiempo de Android.\n",
        "\n",
        "#@markdown Nota importante: su archivo HTML DEBE llamarse \"My Activity.html\" EXACTAMENTE, o nuestro código no funcionará. Cambie el nombre de su archivo si es necesario.\n",
        "file = files.upload()\n",
        "\n",
        "os.rename(r'My Activity.html',r'actdata.txt')\n",
        "with open('actdata.txt','r') as file:\n",
        "  data = file.readlines()\n",
        "print(\"Data loaded from file.\")\n",
        "!rm *.* #removes file, bash shell command\n",
        "print(\"File deleted from Colab, verify in files on left panel.\")"
      ]
    },
    {
      "cell_type": "code",
      "execution_count": null,
      "metadata": {
        "cellView": "form",
        "id": "GwOtdMOmeQkX"
      },
      "outputs": [],
      "source": [
        "#@title Crear marco de datos\n",
        "#@markdown La ejecución de esta celda extrae los datos y los coloca en un marco de datos, una vez ejecutado, le mostrará las primeras y las últimas entradas de sus datos.\n",
        "\n",
        "actdat = data[32]\n",
        "\n",
        "preapp = [app.end(0) for app in re.finditer('<p class=\"mdl-typography--title\">', actdat)] \n",
        "postapp = [app.start(0) for app in re.finditer('<br></p></div><div class=\"content-cell mdl-cell mdl-cell--6-col mdl-typography--body-1\">', actdat)]\n",
        "posttime = [time.start(0) for time in re.finditer('</div><div class=\"content-cell mdl-cell mdl-cell--6-col mdl-typography--body-1 mdl-typography--text-right\">', actdat)]\n",
        "\n",
        "appname = []\n",
        "datetime = []\n",
        "timezone = []\n",
        "\n",
        "for i in range(len(posttime)):\n",
        "\n",
        "  appname += [actdat[preapp[i]:postapp[i]]]\n",
        "\n",
        "  stamp = actdat[posttime[i]-30:posttime[i]]\n",
        "  idx = [app.end(0) for app in re.finditer('>', stamp)]\n",
        "  if len(idx) > 0:\n",
        "    stamp = stamp[idx[-1]:]\n",
        "\n",
        "  datetime += [parse(stamp[:-4])]\n",
        "  timezone += [stamp[-3:]]\n",
        "\n",
        "dataframe = pd.DataFrame(list(zip(appname,datetime,timezone)),columns = ['App','Timestamp','TimeZone'])\n",
        "print(dataframe.head())"
      ]
    },
    {
      "cell_type": "code",
      "execution_count": null,
      "metadata": {
        "cellView": "form",
        "id": "mi5XyHlp_6Bp"
      },
      "outputs": [],
      "source": [
        "#@title Filtro de privacidad\n",
        "#@markdown ** ¡Considere NO usar esta celda! **\n",
        "\n",
        "#@markdown Esta celda elimina los nombres de las aplicaciones de los datos. Se cambia el nombre de todas las aplicaciones a \"aplicación\", a excepción de las aplicaciones de reloj / alarma, que se denominan \"reloj\".\n",
        "\n",
        "dataframe.loc[dataframe['App'].str.contains('clock', case=False), 'App'] = 'clock'\n",
        "dataframe.loc[dataframe['App'] != \"clock\", \"App\"] = \"app\"\n",
        "\n",
        "print(\"appnames have been removed, replaced with \"+str(dataframe.App.unique())+\"\\n\\n\")\n",
        "print(dataframe.head())"
      ]
    },
    {
      "cell_type": "code",
      "execution_count": null,
      "metadata": {
        "cellView": "form",
        "id": "ZwaOJd3wRHu6"
      },
      "outputs": [],
      "source": [
        "#@title Descargar el marco de datos como csv\n",
        "#@markdown Esta celda le permite descargar el CSV. Tenga en cuenta que se llama \"AllData.csv\" y se le pedirá que le cambie el nombre en el siguiente paso antes de enviarlo.\n",
        "dataframe.to_csv(\"AllData.csv\")\n",
        "files.download(\"AllData.csv\")"
      ]
    },
    {
      "cell_type": "code",
      "execution_count": null,
      "metadata": {
        "cellView": "form",
        "id": "El6hXH3kWeEk"
      },
      "outputs": [],
      "source": [
        "#@title Pizarra limpia\n",
        "#@markdown Esto elimina todos los archivos de colab cuando se ejecuta, incluido el archivo HTML y el archivo CSV que descargó sin dejar rastro.\n",
        "\n",
        "!rm *.*\n",
        "print(\"¡Listo y desempolvado!\")"
      ]
    },
    {
      "cell_type": "markdown",
      "metadata": {
        "id": "0LHEZhvohlts"
      },
      "source": [
        "---\n",
        "\n",
        "¡Listo!\n",
        "\n",
        "¡Continúe con el paso 2 de la página principal!\n",
        "\n",
        "---"
      ]
    },
    {
      "cell_type": "code",
      "execution_count": null,
      "metadata": {},
      "outputs": [],
      "source": []
    }
  ],
  "metadata": {
    "colab": {
      "collapsed_sections": [],
      "include_colab_link": true,
      "name": "español Android Timestamps Notebook.ipynb",
      "provenance": []
    },
    "kernelspec": {
      "display_name": "Python 3",
      "language": "python",
      "name": "python3"
    },
    "language_info": {
      "codemirror_mode": {
        "name": "ipython",
        "version": 3
      },
      "file_extension": ".py",
      "mimetype": "text/x-python",
      "name": "python",
      "nbconvert_exporter": "python",
      "pygments_lexer": "ipython3",
      "version": "3.8.8"
    }
  },
  "nbformat": 4,
  "nbformat_minor": 4
}